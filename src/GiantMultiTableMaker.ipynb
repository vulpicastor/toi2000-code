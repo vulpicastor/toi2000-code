{
 "cells": [
  {
   "cell_type": "code",
   "execution_count": null,
   "id": "efacf063-b4a9-42f3-8fe7-2d5061520b3b",
   "metadata": {},
   "outputs": [],
   "source": [
    "import re\n",
    "import urllib.parse as parse\n",
    "\n",
    "import astropy\n",
    "import astropy.units as u\n",
    "import numpy as np\n",
    "import pandas as pd"
   ]
  },
  {
   "cell_type": "code",
   "execution_count": null,
   "id": "0dc28907-1da7-45a8-91dc-af997cb41634",
   "metadata": {},
   "outputs": [],
   "source": [
    "giant_multi_table = pd.read_csv(\n",
    "    'data/catalogs/GiantMulti_earthunit.csv',\n",
    "    index_col=['star_id', 'pl_id'],\n",
    ")"
   ]
  },
  {
   "cell_type": "code",
   "execution_count": null,
   "id": "8d48e101-89c9-4da7-b138-502101812ea7",
   "metadata": {
    "tags": []
   },
   "outputs": [],
   "source": [
    "giant_multi_table"
   ]
  },
  {
   "cell_type": "code",
   "execution_count": null,
   "id": "4181005d-ee13-44ca-b65e-b162ce9aed44",
   "metadata": {
    "tags": []
   },
   "outputs": [],
   "source": [
    "def format_sig_fig(value, lower, upper):\n",
    "    lower_abs = abs(lower)\n",
    "    lower_order = np.floor(np.log10(lower_abs))\n",
    "    upper_order = np.floor(np.log10(upper))\n",
    "    value_order = int(np.floor(np.log10(abs(value))))\n",
    "\n",
    "    unc_order = int(min(lower_order, upper_order)) - 1\n",
    "    if unc_order <= 1 and value_order >= -3:\n",
    "        dec_places = abs(unc_order) if unc_order <= 0 else 0\n",
    "        fmt_str = f'{{:.{dec_places}f}}'\n",
    "        value_str = fmt_str.format(value)\n",
    "        lower_str = fmt_str.format(lower_abs)\n",
    "        upper_str = fmt_str.format(upper)\n",
    "        if lower_str == upper_str:\n",
    "            unc_str = f'\\\\pm {lower_str}'\n",
    "        else:\n",
    "            unc_str = f'_{{-{lower_str}}}^{{+{upper_str}}}'\n",
    "    elif unc_order <= value_order:\n",
    "        dec_places = abs(value_order - unc_order)\n",
    "        fmt_str = f'{{:.{dec_places}f}}'\n",
    "        exponent = 10 ** -value_order\n",
    "        value_str = '(' + fmt_str.format(value * exponent)\n",
    "        lower_str = fmt_str.format(lower_abs * exponent)\n",
    "        upper_str = fmt_str.format(upper * exponent)\n",
    "        if lower_str == upper_str:\n",
    "            unc_str = f'\\\\pm {lower_str}) \\\\times 10^{{{value_order}}}'\n",
    "        else:\n",
    "            unc_str = f'_{{-{lower_str}}}^{{+{upper_str}}}) \\\\times 10^{{{value_order}}}'\n",
    "    return value_str, unc_str\n",
    "\n",
    "def format_sig_fig_single(value):\n",
    "    if value >= 100:\n",
    "        return round(value)\n",
    "    else:\n",
    "        return round(value, 1)\n",
    "\n",
    "def texify_citation(citation):\n",
    "    if citation.startswith('https'):\n",
    "        m = re.match(r'https://ui.adsabs.harvard.edu/abs/(.+)/abstract', citation)\n",
    "        bibcode = m.group(1)\n",
    "        sanitized_bibcode = (parse.unquote(bibcode)).replace('&', 'n')\n",
    "        return f'\\\\citet{{{sanitized_bibcode}}}'\n",
    "    else:\n",
    "        return citation"
   ]
  },
  {
   "cell_type": "code",
   "execution_count": null,
   "id": "f0934ef3-8f35-4881-bb8c-c5ccb938ae56",
   "metadata": {},
   "outputs": [],
   "source": [
    "print(texify_citation('https://ui.adsabs.harvard.edu/abs/2022AJ....164...13H/abstract'))"
   ]
  },
  {
   "cell_type": "code",
   "execution_count": null,
   "id": "9c585e96-a960-41e2-ac69-252afd1728e8",
   "metadata": {},
   "outputs": [],
   "source": [
    "def texify_catalog(tab):\n",
    "    lines = []\n",
    "    for row in tab.itertuples():\n",
    "        # print(row)\n",
    "        tex_row = [row.hostname, row.pl_name]\n",
    "        # flags = []\n",
    "        for f, l in zip([row.rv_flag, row.tran_flag, row.ttv_flag], 'RTV'):\n",
    "            if pd.notna(f) and f:\n",
    "                tex_row.append(l)\n",
    "            else:\n",
    "                tex_row.append(' ')\n",
    "        # tex_row.append('\\\\textsc{{{}}}'.format(''.join(flags)))\n",
    "        if pd.notna(row.pl_orbpererr1):\n",
    "            tex_row.append('${}$'.format(''.join(format_sig_fig(row.pl_orbper, row.pl_orbpererr2, row.pl_orbpererr1))))\n",
    "        else:\n",
    "            tex_row.append(f'${row.pl_orbper}$')\n",
    "        # radius = (np.array([row.pl_rade, row.pl_radeerr2, row.pl_radeerr1])\n",
    "        if pd.notna(row.pl_rade):\n",
    "            if pd.notna(row.pl_radeerr1):\n",
    "                tex_row.append('${}$'.format(''.join(format_sig_fig(row.pl_rade, row.pl_radeerr2, row.pl_radeerr1))))\n",
    "            else:\n",
    "                tex_row.append('${}$'.format(format_sig_fig_single(row.pl_rade)))\n",
    "        else:\n",
    "            tex_row.append('--')\n",
    "        if row.pl_masselim == 0:\n",
    "            # mass = (np.array([row.pl_massj, row.pl_massjerr2, row.pl_massjerr1]) << u.jupiterMass).to(u.earthMass).value\n",
    "            tex_row.append('${}$'.format(''.join(format_sig_fig(row.pl_masse, row.pl_masseerr2, row.pl_masseerr1))))\n",
    "        elif row.pl_masselim == 1:\n",
    "            # tex_row.append('$< {}$'.format(round((row.pl_massj * u.jupiterMass).to(u.earthMass).value)))\n",
    "            tex_row.append('$< {}$'.format(format_sig_fig_single(row.pl_masse)))\n",
    "        elif pd.notna(row.pl_msinie):\n",
    "            tex_row.append('$\\\\geq {}$'.format(''.join(format_sig_fig(row.pl_msinie, row.pl_msinieerr2, row.pl_msinieerr1))))\n",
    "        else:\n",
    "            tex_row.append('--')\n",
    "        tex_row.append(row.disposition)\n",
    "        if ';' in row.reference:\n",
    "            cites = [texify_citation(r) for r in row.reference.split(';')]\n",
    "            tex_row.append(cites[0])\n",
    "        else:\n",
    "            tex_row.append(texify_citation(row.reference))\n",
    "        lines.append(' & '.join(tex_row) + r' \\\\')\n",
    "    return lines"
   ]
  },
  {
   "cell_type": "code",
   "execution_count": null,
   "id": "5272b172-34d1-465e-bbf5-d66125a1b186",
   "metadata": {},
   "outputs": [],
   "source": [
    "print('\\n'.join(texify_catalog(giant_multi_table)))"
   ]
  },
  {
   "cell_type": "code",
   "execution_count": null,
   "id": "22abab77-d48b-4fcc-aafc-6238e8c6ac6d",
   "metadata": {},
   "outputs": [],
   "source": []
  }
 ],
 "metadata": {
  "kernelspec": {
   "display_name": "Python 3",
   "language": "python",
   "name": "python3"
  },
  "language_info": {
   "codemirror_mode": {
    "name": "ipython",
    "version": 3
   },
   "file_extension": ".py",
   "mimetype": "text/x-python",
   "name": "python",
   "nbconvert_exporter": "python",
   "pygments_lexer": "ipython3",
   "version": "3.9.12"
  }
 },
 "nbformat": 4,
 "nbformat_minor": 5
}
